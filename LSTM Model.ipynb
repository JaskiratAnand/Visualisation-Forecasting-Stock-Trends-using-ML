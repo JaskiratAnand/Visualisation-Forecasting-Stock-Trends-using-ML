{
 "cells": [
  {
   "cell_type": "code",
   "execution_count": 1,
   "id": "59402145",
   "metadata": {},
   "outputs": [],
   "source": [
    "import numpy as np\n",
    "import pandas as pd\n",
    "import matplotlib.pyplot as plt\n",
    "import pandas_datareader as data\n",
    "from keras.models import load_model"
   ]
  },
  {
   "cell_type": "code",
   "execution_count": 2,
   "id": "17f3e854",
   "metadata": {},
   "outputs": [
    {
     "data": {
      "text/html": [
       "<div>\n",
       "<style scoped>\n",
       "    .dataframe tbody tr th:only-of-type {\n",
       "        vertical-align: middle;\n",
       "    }\n",
       "\n",
       "    .dataframe tbody tr th {\n",
       "        vertical-align: top;\n",
       "    }\n",
       "\n",
       "    .dataframe thead th {\n",
       "        text-align: right;\n",
       "    }\n",
       "</style>\n",
       "<table border=\"1\" class=\"dataframe\">\n",
       "  <thead>\n",
       "    <tr style=\"text-align: right;\">\n",
       "      <th></th>\n",
       "      <th>High</th>\n",
       "      <th>Low</th>\n",
       "      <th>Open</th>\n",
       "      <th>Close</th>\n",
       "      <th>Volume</th>\n",
       "      <th>Adj Close</th>\n",
       "    </tr>\n",
       "    <tr>\n",
       "      <th>Date</th>\n",
       "      <th></th>\n",
       "      <th></th>\n",
       "      <th></th>\n",
       "      <th></th>\n",
       "      <th></th>\n",
       "      <th></th>\n",
       "    </tr>\n",
       "  </thead>\n",
       "  <tbody>\n",
       "    <tr>\n",
       "      <th>2009-12-31</th>\n",
       "      <td>311.532288</td>\n",
       "      <td>308.832428</td>\n",
       "      <td>311.208527</td>\n",
       "      <td>308.832428</td>\n",
       "      <td>2448744.0</td>\n",
       "      <td>308.832428</td>\n",
       "    </tr>\n",
       "    <tr>\n",
       "      <th>2010-01-04</th>\n",
       "      <td>313.579620</td>\n",
       "      <td>310.954468</td>\n",
       "      <td>312.304413</td>\n",
       "      <td>312.204773</td>\n",
       "      <td>3927065.0</td>\n",
       "      <td>312.204773</td>\n",
       "    </tr>\n",
       "    <tr>\n",
       "      <th>2010-01-05</th>\n",
       "      <td>312.747742</td>\n",
       "      <td>309.609497</td>\n",
       "      <td>312.418976</td>\n",
       "      <td>310.829926</td>\n",
       "      <td>6031925.0</td>\n",
       "      <td>310.829926</td>\n",
       "    </tr>\n",
       "    <tr>\n",
       "      <th>2010-01-06</th>\n",
       "      <td>311.761444</td>\n",
       "      <td>302.047852</td>\n",
       "      <td>311.761444</td>\n",
       "      <td>302.994293</td>\n",
       "      <td>7987226.0</td>\n",
       "      <td>302.994293</td>\n",
       "    </tr>\n",
       "    <tr>\n",
       "      <th>2010-01-07</th>\n",
       "      <td>303.861053</td>\n",
       "      <td>295.218445</td>\n",
       "      <td>303.562164</td>\n",
       "      <td>295.940735</td>\n",
       "      <td>12876685.0</td>\n",
       "      <td>295.940735</td>\n",
       "    </tr>\n",
       "  </tbody>\n",
       "</table>\n",
       "</div>"
      ],
      "text/plain": [
       "                  High         Low        Open       Close      Volume  \\\n",
       "Date                                                                     \n",
       "2009-12-31  311.532288  308.832428  311.208527  308.832428   2448744.0   \n",
       "2010-01-04  313.579620  310.954468  312.304413  312.204773   3927065.0   \n",
       "2010-01-05  312.747742  309.609497  312.418976  310.829926   6031925.0   \n",
       "2010-01-06  311.761444  302.047852  311.761444  302.994293   7987226.0   \n",
       "2010-01-07  303.861053  295.218445  303.562164  295.940735  12876685.0   \n",
       "\n",
       "             Adj Close  \n",
       "Date                    \n",
       "2009-12-31  308.832428  \n",
       "2010-01-04  312.204773  \n",
       "2010-01-05  310.829926  \n",
       "2010-01-06  302.994293  \n",
       "2010-01-07  295.940735  "
      ]
     },
     "execution_count": 2,
     "metadata": {},
     "output_type": "execute_result"
    }
   ],
   "source": [
    "start = '2010-01-01'\n",
    "end = '2022-5-1'\n",
    "\n",
    "df = data.DataReader('GOOG', 'yahoo', start, end)\n",
    "df.head()"
   ]
  },
  {
   "cell_type": "code",
   "execution_count": 3,
   "id": "099bbd7d",
   "metadata": {},
   "outputs": [
    {
     "data": {
      "text/html": [
       "<div>\n",
       "<style scoped>\n",
       "    .dataframe tbody tr th:only-of-type {\n",
       "        vertical-align: middle;\n",
       "    }\n",
       "\n",
       "    .dataframe tbody tr th {\n",
       "        vertical-align: top;\n",
       "    }\n",
       "\n",
       "    .dataframe thead th {\n",
       "        text-align: right;\n",
       "    }\n",
       "</style>\n",
       "<table border=\"1\" class=\"dataframe\">\n",
       "  <thead>\n",
       "    <tr style=\"text-align: right;\">\n",
       "      <th></th>\n",
       "      <th>High</th>\n",
       "      <th>Low</th>\n",
       "      <th>Open</th>\n",
       "      <th>Close</th>\n",
       "      <th>Volume</th>\n",
       "      <th>Adj Close</th>\n",
       "    </tr>\n",
       "    <tr>\n",
       "      <th>Date</th>\n",
       "      <th></th>\n",
       "      <th></th>\n",
       "      <th></th>\n",
       "      <th></th>\n",
       "      <th></th>\n",
       "      <th></th>\n",
       "    </tr>\n",
       "  </thead>\n",
       "  <tbody>\n",
       "    <tr>\n",
       "      <th>2022-04-25</th>\n",
       "      <td>2465.560059</td>\n",
       "      <td>2375.385010</td>\n",
       "      <td>2388.590088</td>\n",
       "      <td>2465.000000</td>\n",
       "      <td>1726100.0</td>\n",
       "      <td>2465.000000</td>\n",
       "    </tr>\n",
       "    <tr>\n",
       "      <th>2022-04-26</th>\n",
       "      <td>2455.000000</td>\n",
       "      <td>2383.237061</td>\n",
       "      <td>2455.000000</td>\n",
       "      <td>2390.120117</td>\n",
       "      <td>2469700.0</td>\n",
       "      <td>2390.120117</td>\n",
       "    </tr>\n",
       "    <tr>\n",
       "      <th>2022-04-27</th>\n",
       "      <td>2350.000000</td>\n",
       "      <td>2262.485107</td>\n",
       "      <td>2287.459961</td>\n",
       "      <td>2300.409912</td>\n",
       "      <td>3111900.0</td>\n",
       "      <td>2300.409912</td>\n",
       "    </tr>\n",
       "    <tr>\n",
       "      <th>2022-04-28</th>\n",
       "      <td>2408.770020</td>\n",
       "      <td>2302.877930</td>\n",
       "      <td>2342.300049</td>\n",
       "      <td>2388.229980</td>\n",
       "      <td>1839500.0</td>\n",
       "      <td>2388.229980</td>\n",
       "    </tr>\n",
       "    <tr>\n",
       "      <th>2022-04-29</th>\n",
       "      <td>2379.199951</td>\n",
       "      <td>2293.879883</td>\n",
       "      <td>2351.560059</td>\n",
       "      <td>2299.330078</td>\n",
       "      <td>1683500.0</td>\n",
       "      <td>2299.330078</td>\n",
       "    </tr>\n",
       "  </tbody>\n",
       "</table>\n",
       "</div>"
      ],
      "text/plain": [
       "                   High          Low         Open        Close     Volume  \\\n",
       "Date                                                                        \n",
       "2022-04-25  2465.560059  2375.385010  2388.590088  2465.000000  1726100.0   \n",
       "2022-04-26  2455.000000  2383.237061  2455.000000  2390.120117  2469700.0   \n",
       "2022-04-27  2350.000000  2262.485107  2287.459961  2300.409912  3111900.0   \n",
       "2022-04-28  2408.770020  2302.877930  2342.300049  2388.229980  1839500.0   \n",
       "2022-04-29  2379.199951  2293.879883  2351.560059  2299.330078  1683500.0   \n",
       "\n",
       "              Adj Close  \n",
       "Date                     \n",
       "2022-04-25  2465.000000  \n",
       "2022-04-26  2390.120117  \n",
       "2022-04-27  2300.409912  \n",
       "2022-04-28  2388.229980  \n",
       "2022-04-29  2299.330078  "
      ]
     },
     "execution_count": 3,
     "metadata": {},
     "output_type": "execute_result"
    }
   ],
   "source": [
    "df.tail()\n"
   ]
  },
  {
   "cell_type": "code",
   "execution_count": 4,
   "id": "3a0675cd",
   "metadata": {},
   "outputs": [
    {
     "data": {
      "text/html": [
       "<div>\n",
       "<style scoped>\n",
       "    .dataframe tbody tr th:only-of-type {\n",
       "        vertical-align: middle;\n",
       "    }\n",
       "\n",
       "    .dataframe tbody tr th {\n",
       "        vertical-align: top;\n",
       "    }\n",
       "\n",
       "    .dataframe thead th {\n",
       "        text-align: right;\n",
       "    }\n",
       "</style>\n",
       "<table border=\"1\" class=\"dataframe\">\n",
       "  <thead>\n",
       "    <tr style=\"text-align: right;\">\n",
       "      <th></th>\n",
       "      <th>Date</th>\n",
       "      <th>High</th>\n",
       "      <th>Low</th>\n",
       "      <th>Open</th>\n",
       "      <th>Close</th>\n",
       "      <th>Volume</th>\n",
       "      <th>Adj Close</th>\n",
       "    </tr>\n",
       "  </thead>\n",
       "  <tbody>\n",
       "    <tr>\n",
       "      <th>0</th>\n",
       "      <td>2009-12-31</td>\n",
       "      <td>311.532288</td>\n",
       "      <td>308.832428</td>\n",
       "      <td>311.208527</td>\n",
       "      <td>308.832428</td>\n",
       "      <td>2448744.0</td>\n",
       "      <td>308.832428</td>\n",
       "    </tr>\n",
       "    <tr>\n",
       "      <th>1</th>\n",
       "      <td>2010-01-04</td>\n",
       "      <td>313.579620</td>\n",
       "      <td>310.954468</td>\n",
       "      <td>312.304413</td>\n",
       "      <td>312.204773</td>\n",
       "      <td>3927065.0</td>\n",
       "      <td>312.204773</td>\n",
       "    </tr>\n",
       "    <tr>\n",
       "      <th>2</th>\n",
       "      <td>2010-01-05</td>\n",
       "      <td>312.747742</td>\n",
       "      <td>309.609497</td>\n",
       "      <td>312.418976</td>\n",
       "      <td>310.829926</td>\n",
       "      <td>6031925.0</td>\n",
       "      <td>310.829926</td>\n",
       "    </tr>\n",
       "    <tr>\n",
       "      <th>3</th>\n",
       "      <td>2010-01-06</td>\n",
       "      <td>311.761444</td>\n",
       "      <td>302.047852</td>\n",
       "      <td>311.761444</td>\n",
       "      <td>302.994293</td>\n",
       "      <td>7987226.0</td>\n",
       "      <td>302.994293</td>\n",
       "    </tr>\n",
       "    <tr>\n",
       "      <th>4</th>\n",
       "      <td>2010-01-07</td>\n",
       "      <td>303.861053</td>\n",
       "      <td>295.218445</td>\n",
       "      <td>303.562164</td>\n",
       "      <td>295.940735</td>\n",
       "      <td>12876685.0</td>\n",
       "      <td>295.940735</td>\n",
       "    </tr>\n",
       "  </tbody>\n",
       "</table>\n",
       "</div>"
      ],
      "text/plain": [
       "        Date        High         Low        Open       Close      Volume  \\\n",
       "0 2009-12-31  311.532288  308.832428  311.208527  308.832428   2448744.0   \n",
       "1 2010-01-04  313.579620  310.954468  312.304413  312.204773   3927065.0   \n",
       "2 2010-01-05  312.747742  309.609497  312.418976  310.829926   6031925.0   \n",
       "3 2010-01-06  311.761444  302.047852  311.761444  302.994293   7987226.0   \n",
       "4 2010-01-07  303.861053  295.218445  303.562164  295.940735  12876685.0   \n",
       "\n",
       "    Adj Close  \n",
       "0  308.832428  \n",
       "1  312.204773  \n",
       "2  310.829926  \n",
       "3  302.994293  \n",
       "4  295.940735  "
      ]
     },
     "execution_count": 4,
     "metadata": {},
     "output_type": "execute_result"
    }
   ],
   "source": [
    "df = df.reset_index()\n",
    "df.head()"
   ]
  },
  {
   "cell_type": "code",
   "execution_count": 5,
   "id": "b1a0dbe9",
   "metadata": {},
   "outputs": [
    {
     "data": {
      "text/html": [
       "<div>\n",
       "<style scoped>\n",
       "    .dataframe tbody tr th:only-of-type {\n",
       "        vertical-align: middle;\n",
       "    }\n",
       "\n",
       "    .dataframe tbody tr th {\n",
       "        vertical-align: top;\n",
       "    }\n",
       "\n",
       "    .dataframe thead th {\n",
       "        text-align: right;\n",
       "    }\n",
       "</style>\n",
       "<table border=\"1\" class=\"dataframe\">\n",
       "  <thead>\n",
       "    <tr style=\"text-align: right;\">\n",
       "      <th></th>\n",
       "      <th>Date</th>\n",
       "      <th>High</th>\n",
       "      <th>Low</th>\n",
       "      <th>Open</th>\n",
       "      <th>Close</th>\n",
       "      <th>Volume</th>\n",
       "      <th>Adj Close</th>\n",
       "    </tr>\n",
       "  </thead>\n",
       "  <tbody>\n",
       "    <tr>\n",
       "      <th>3099</th>\n",
       "      <td>2022-04-25</td>\n",
       "      <td>2465.560059</td>\n",
       "      <td>2375.385010</td>\n",
       "      <td>2388.590088</td>\n",
       "      <td>2465.000000</td>\n",
       "      <td>1726100.0</td>\n",
       "      <td>2465.000000</td>\n",
       "    </tr>\n",
       "    <tr>\n",
       "      <th>3100</th>\n",
       "      <td>2022-04-26</td>\n",
       "      <td>2455.000000</td>\n",
       "      <td>2383.237061</td>\n",
       "      <td>2455.000000</td>\n",
       "      <td>2390.120117</td>\n",
       "      <td>2469700.0</td>\n",
       "      <td>2390.120117</td>\n",
       "    </tr>\n",
       "    <tr>\n",
       "      <th>3101</th>\n",
       "      <td>2022-04-27</td>\n",
       "      <td>2350.000000</td>\n",
       "      <td>2262.485107</td>\n",
       "      <td>2287.459961</td>\n",
       "      <td>2300.409912</td>\n",
       "      <td>3111900.0</td>\n",
       "      <td>2300.409912</td>\n",
       "    </tr>\n",
       "    <tr>\n",
       "      <th>3102</th>\n",
       "      <td>2022-04-28</td>\n",
       "      <td>2408.770020</td>\n",
       "      <td>2302.877930</td>\n",
       "      <td>2342.300049</td>\n",
       "      <td>2388.229980</td>\n",
       "      <td>1839500.0</td>\n",
       "      <td>2388.229980</td>\n",
       "    </tr>\n",
       "    <tr>\n",
       "      <th>3103</th>\n",
       "      <td>2022-04-29</td>\n",
       "      <td>2379.199951</td>\n",
       "      <td>2293.879883</td>\n",
       "      <td>2351.560059</td>\n",
       "      <td>2299.330078</td>\n",
       "      <td>1683500.0</td>\n",
       "      <td>2299.330078</td>\n",
       "    </tr>\n",
       "  </tbody>\n",
       "</table>\n",
       "</div>"
      ],
      "text/plain": [
       "           Date         High          Low         Open        Close  \\\n",
       "3099 2022-04-25  2465.560059  2375.385010  2388.590088  2465.000000   \n",
       "3100 2022-04-26  2455.000000  2383.237061  2455.000000  2390.120117   \n",
       "3101 2022-04-27  2350.000000  2262.485107  2287.459961  2300.409912   \n",
       "3102 2022-04-28  2408.770020  2302.877930  2342.300049  2388.229980   \n",
       "3103 2022-04-29  2379.199951  2293.879883  2351.560059  2299.330078   \n",
       "\n",
       "         Volume    Adj Close  \n",
       "3099  1726100.0  2465.000000  \n",
       "3100  2469700.0  2390.120117  \n",
       "3101  3111900.0  2300.409912  \n",
       "3102  1839500.0  2388.229980  \n",
       "3103  1683500.0  2299.330078  "
      ]
     },
     "execution_count": 5,
     "metadata": {},
     "output_type": "execute_result"
    }
   ],
   "source": [
    "df.tail()"
   ]
  },
  {
   "cell_type": "code",
   "execution_count": 6,
   "id": "adfe381a",
   "metadata": {},
   "outputs": [
    {
     "data": {
      "text/html": [
       "<div>\n",
       "<style scoped>\n",
       "    .dataframe tbody tr th:only-of-type {\n",
       "        vertical-align: middle;\n",
       "    }\n",
       "\n",
       "    .dataframe tbody tr th {\n",
       "        vertical-align: top;\n",
       "    }\n",
       "\n",
       "    .dataframe thead th {\n",
       "        text-align: right;\n",
       "    }\n",
       "</style>\n",
       "<table border=\"1\" class=\"dataframe\">\n",
       "  <thead>\n",
       "    <tr style=\"text-align: right;\">\n",
       "      <th></th>\n",
       "      <th>High</th>\n",
       "      <th>Low</th>\n",
       "      <th>Open</th>\n",
       "      <th>Close</th>\n",
       "      <th>Volume</th>\n",
       "    </tr>\n",
       "  </thead>\n",
       "  <tbody>\n",
       "    <tr>\n",
       "      <th>0</th>\n",
       "      <td>311.532288</td>\n",
       "      <td>308.832428</td>\n",
       "      <td>311.208527</td>\n",
       "      <td>308.832428</td>\n",
       "      <td>2448744.0</td>\n",
       "    </tr>\n",
       "    <tr>\n",
       "      <th>1</th>\n",
       "      <td>313.579620</td>\n",
       "      <td>310.954468</td>\n",
       "      <td>312.304413</td>\n",
       "      <td>312.204773</td>\n",
       "      <td>3927065.0</td>\n",
       "    </tr>\n",
       "    <tr>\n",
       "      <th>2</th>\n",
       "      <td>312.747742</td>\n",
       "      <td>309.609497</td>\n",
       "      <td>312.418976</td>\n",
       "      <td>310.829926</td>\n",
       "      <td>6031925.0</td>\n",
       "    </tr>\n",
       "    <tr>\n",
       "      <th>3</th>\n",
       "      <td>311.761444</td>\n",
       "      <td>302.047852</td>\n",
       "      <td>311.761444</td>\n",
       "      <td>302.994293</td>\n",
       "      <td>7987226.0</td>\n",
       "    </tr>\n",
       "    <tr>\n",
       "      <th>4</th>\n",
       "      <td>303.861053</td>\n",
       "      <td>295.218445</td>\n",
       "      <td>303.562164</td>\n",
       "      <td>295.940735</td>\n",
       "      <td>12876685.0</td>\n",
       "    </tr>\n",
       "  </tbody>\n",
       "</table>\n",
       "</div>"
      ],
      "text/plain": [
       "         High         Low        Open       Close      Volume\n",
       "0  311.532288  308.832428  311.208527  308.832428   2448744.0\n",
       "1  313.579620  310.954468  312.304413  312.204773   3927065.0\n",
       "2  312.747742  309.609497  312.418976  310.829926   6031925.0\n",
       "3  311.761444  302.047852  311.761444  302.994293   7987226.0\n",
       "4  303.861053  295.218445  303.562164  295.940735  12876685.0"
      ]
     },
     "execution_count": 6,
     "metadata": {},
     "output_type": "execute_result"
    }
   ],
   "source": [
    "df = df.drop(['Date', 'Adj Close'], axis=1)\n",
    "df.head()"
   ]
  },
  {
   "cell_type": "code",
   "execution_count": 7,
   "id": "c030f67a",
   "metadata": {},
   "outputs": [
    {
     "data": {
      "text/plain": [
       "[<matplotlib.lines.Line2D at 0x26353ad4c40>]"
      ]
     },
     "execution_count": 7,
     "metadata": {},
     "output_type": "execute_result"
    },
    {
     "data": {
      "image/png": "[encoded data removed]",
      "text/plain": [
       "<Figure size 432x288 with 1 Axes>"
      ]
     },
     "metadata": {
      "needs_background": "light"
     },
     "output_type": "display_data"
    }
   ],
   "source": [
    "plt.plot(df.Close)"
   ]
  },
  {
   "cell_type": "code",
   "execution_count": 8,
   "id": "1bd5b516",
   "metadata": {},
   "outputs": [
    {
     "data": {
      "text/html": [
       "<div>\n",
       "<style scoped>\n",
       "    .dataframe tbody tr th:only-of-type {\n",
       "        vertical-align: middle;\n",
       "    }\n",
       "\n",
       "    .dataframe tbody tr th {\n",
       "        vertical-align: top;\n",
       "    }\n",
       "\n",
       "    .dataframe thead th {\n",
       "        text-align: right;\n",
       "    }\n",
       "</style>\n",
       "<table border=\"1\" class=\"dataframe\">\n",
       "  <thead>\n",
       "    <tr style=\"text-align: right;\">\n",
       "      <th></th>\n",
       "      <th>High</th>\n",
       "      <th>Low</th>\n",
       "      <th>Open</th>\n",
       "      <th>Close</th>\n",
       "      <th>Volume</th>\n",
       "    </tr>\n",
       "  </thead>\n",
       "  <tbody>\n",
       "    <tr>\n",
       "      <th>0</th>\n",
       "      <td>311.532288</td>\n",
       "      <td>308.832428</td>\n",
       "      <td>311.208527</td>\n",
       "      <td>308.832428</td>\n",
       "      <td>2448744.0</td>\n",
       "    </tr>\n",
       "    <tr>\n",
       "      <th>1</th>\n",
       "      <td>313.579620</td>\n",
       "      <td>310.954468</td>\n",
       "      <td>312.304413</td>\n",
       "      <td>312.204773</td>\n",
       "      <td>3927065.0</td>\n",
       "    </tr>\n",
       "    <tr>\n",
       "      <th>2</th>\n",
       "      <td>312.747742</td>\n",
       "      <td>309.609497</td>\n",
       "      <td>312.418976</td>\n",
       "      <td>310.829926</td>\n",
       "      <td>6031925.0</td>\n",
       "    </tr>\n",
       "    <tr>\n",
       "      <th>3</th>\n",
       "      <td>311.761444</td>\n",
       "      <td>302.047852</td>\n",
       "      <td>311.761444</td>\n",
       "      <td>302.994293</td>\n",
       "      <td>7987226.0</td>\n",
       "    </tr>\n",
       "    <tr>\n",
       "      <th>4</th>\n",
       "      <td>303.861053</td>\n",
       "      <td>295.218445</td>\n",
       "      <td>303.562164</td>\n",
       "      <td>295.940735</td>\n",
       "      <td>12876685.0</td>\n",
       "    </tr>\n",
       "    <tr>\n",
       "      <th>...</th>\n",
       "      <td>...</td>\n",
       "      <td>...</td>\n",
       "      <td>...</td>\n",
       "      <td>...</td>\n",
       "      <td>...</td>\n",
       "    </tr>\n",
       "    <tr>\n",
       "      <th>3099</th>\n",
       "      <td>2465.560059</td>\n",
       "      <td>2375.385010</td>\n",
       "      <td>2388.590088</td>\n",
       "      <td>2465.000000</td>\n",
       "      <td>1726100.0</td>\n",
       "    </tr>\n",
       "    <tr>\n",
       "      <th>3100</th>\n",
       "      <td>2455.000000</td>\n",
       "      <td>2383.237061</td>\n",
       "      <td>2455.000000</td>\n",
       "      <td>2390.120117</td>\n",
       "      <td>2469700.0</td>\n",
       "    </tr>\n",
       "    <tr>\n",
       "      <th>3101</th>\n",
       "      <td>2350.000000</td>\n",
       "      <td>2262.485107</td>\n",
       "      <td>2287.459961</td>\n",
       "      <td>2300.409912</td>\n",
       "      <td>3111900.0</td>\n",
       "    </tr>\n",
       "    <tr>\n",
       "      <th>3102</th>\n",
       "      <td>2408.770020</td>\n",
       "      <td>2302.877930</td>\n",
       "      <td>2342.300049</td>\n",
       "      <td>2388.229980</td>\n",
       "      <td>1839500.0</td>\n",
       "    </tr>\n",
       "    <tr>\n",
       "      <th>3103</th>\n",
       "      <td>2379.199951</td>\n",
       "      <td>2293.879883</td>\n",
       "      <td>2351.560059</td>\n",
       "      <td>2299.330078</td>\n",
       "      <td>1683500.0</td>\n",
       "    </tr>\n",
       "  </tbody>\n",
       "</table>\n",
       "<p>3104 rows × 5 columns</p>\n",
       "</div>"
      ],
      "text/plain": [
       "             High          Low         Open        Close      Volume\n",
       "0      311.532288   308.832428   311.208527   308.832428   2448744.0\n",
       "1      313.579620   310.954468   312.304413   312.204773   3927065.0\n",
       "2      312.747742   309.609497   312.418976   310.829926   6031925.0\n",
       "3      311.761444   302.047852   311.761444   302.994293   7987226.0\n",
       "4      303.861053   295.218445   303.562164   295.940735  12876685.0\n",
       "...           ...          ...          ...          ...         ...\n",
       "3099  2465.560059  2375.385010  2388.590088  2465.000000   1726100.0\n",
       "3100  2455.000000  2383.237061  2455.000000  2390.120117   2469700.0\n",
       "3101  2350.000000  2262.485107  2287.459961  2300.409912   3111900.0\n",
       "3102  2408.770020  2302.877930  2342.300049  2388.229980   1839500.0\n",
       "3103  2379.199951  2293.879883  2351.560059  2299.330078   1683500.0\n",
       "\n",
       "[3104 rows x 5 columns]"
      ]
     },
     "execution_count": 8,
     "metadata": {},
     "output_type": "execute_result"
    }
   ],
   "source": [
    "df"
   ]
  },
  {
   "cell_type": "code",
   "execution_count": 9,
   "id": "104da17c",
   "metadata": {},
   "outputs": [
    {
     "data": {
      "text/plain": [
       "0               NaN\n",
       "1               NaN\n",
       "2               NaN\n",
       "3               NaN\n",
       "4               NaN\n",
       "           ...     \n",
       "3099    2747.336514\n",
       "3100    2742.914114\n",
       "3101    2737.162913\n",
       "3102    2732.541113\n",
       "3103    2726.775115\n",
       "Name: Close, Length: 3104, dtype: float64"
      ]
     },
     "execution_count": 9,
     "metadata": {},
     "output_type": "execute_result"
    }
   ],
   "source": [
    "ma100 = df.Close.rolling(100).mean()\n",
    "ma100"
   ]
  },
  {
   "cell_type": "code",
   "execution_count": 10,
   "id": "0438ff9d",
   "metadata": {},
   "outputs": [
    {
     "data": {
      "text/plain": [
       "[<matplotlib.lines.Line2D at 0x2635405db10>]"
      ]
     },
     "execution_count": 10,
     "metadata": {},
     "output_type": "execute_result"
    },
    {
     "data": {
      "image/png": "[encoded data removed]",
      "text/plain": [
       "<Figure size 864x432 with 1 Axes>"
      ]
     },
     "metadata": {
      "needs_background": "light"
     },
     "output_type": "display_data"
    }
   ],
   "source": [
    "plt.figure(figsize= (12,6))\n",
    "plt.plot(df.Close)\n",
    "plt.plot(ma100, 'r')"
   ]
  },
  {
   "cell_type": "code",
   "execution_count": 11,
   "id": "23b2206a",
   "metadata": {},
   "outputs": [
    {
     "data": {
      "text/plain": [
       "0               NaN\n",
       "1               NaN\n",
       "2               NaN\n",
       "3               NaN\n",
       "4               NaN\n",
       "           ...     \n",
       "3099    2783.219308\n",
       "3100    2782.113508\n",
       "3101    2780.516108\n",
       "3102    2779.249009\n",
       "3103    2777.619009\n",
       "Name: Close, Length: 3104, dtype: float64"
      ]
     },
     "execution_count": 11,
     "metadata": {},
     "output_type": "execute_result"
    }
   ],
   "source": [
    "ma200 = df.Close.rolling(200).mean()\n",
    "ma200"
   ]
  },
  {
   "cell_type": "code",
   "execution_count": 12,
   "id": "e5ab2b0e",
   "metadata": {},
   "outputs": [
    {
     "data": {
      "text/plain": [
       "[<matplotlib.lines.Line2D at 0x26353ec1ea0>]"
      ]
     },
     "execution_count": 12,
     "metadata": {},
     "output_type": "execute_result"
    },
    {
     "data": {
      "image/png": "[encoded data removed]",
      "text/plain": [
       "<Figure size 864x432 with 1 Axes>"
      ]
     },
     "metadata": {
      "needs_background": "light"
     },
     "output_type": "display_data"
    }
   ],
   "source": [
    "plt.figure(figsize= (12,6))\n",
    "plt.plot(df.Close)\n",
    "plt.plot(ma100, 'r')\n",
    "plt.plot(ma200, 'g')"
   ]
  },
  {
   "cell_type": "code",
   "execution_count": 13,
   "id": "6a73a300",
   "metadata": {},
   "outputs": [
    {
     "data": {
      "text/plain": [
       "(3104, 5)"
      ]
     },
     "execution_count": 13,
     "metadata": {},
     "output_type": "execute_result"
    }
   ],
   "source": [
    "df.shape"
   ]
  },
  {
   "cell_type": "code",
   "execution_count": 14,
   "id": "609723a6",
   "metadata": {},
   "outputs": [
    {
     "name": "stdout",
     "output_type": "stream",
     "text": [
      "(2172, 1)\n",
      "(932, 1)\n"
     ]
    }
   ],
   "source": [
    "#Splitting Data into Training & Testing\n",
    "\n",
    "data_training = pd.DataFrame(df['Close'][0:int(len(df)*0.70)])\n",
    "data_testing = pd.DataFrame(df['Close'][int(len(df)*0.70): int(len(df))])\n",
    "\n",
    "print(data_training.shape)\n",
    "print(data_testing.shape)"
   ]
  },
  {
   "cell_type": "code",
   "execution_count": 15,
   "id": "feaa0a93",
   "metadata": {},
   "outputs": [
    {
     "data": {
      "text/html": [
       "<div>\n",
       "<style scoped>\n",
       "    .dataframe tbody tr th:only-of-type {\n",
       "        vertical-align: middle;\n",
       "    }\n",
       "\n",
       "    .dataframe tbody tr th {\n",
       "        vertical-align: top;\n",
       "    }\n",
       "\n",
       "    .dataframe thead th {\n",
       "        text-align: right;\n",
       "    }\n",
       "</style>\n",
       "<table border=\"1\" class=\"dataframe\">\n",
       "  <thead>\n",
       "    <tr style=\"text-align: right;\">\n",
       "      <th></th>\n",
       "      <th>Close</th>\n",
       "    </tr>\n",
       "  </thead>\n",
       "  <tbody>\n",
       "    <tr>\n",
       "      <th>0</th>\n",
       "      <td>308.832428</td>\n",
       "    </tr>\n",
       "    <tr>\n",
       "      <th>1</th>\n",
       "      <td>312.204773</td>\n",
       "    </tr>\n",
       "    <tr>\n",
       "      <th>2</th>\n",
       "      <td>310.829926</td>\n",
       "    </tr>\n",
       "    <tr>\n",
       "      <th>3</th>\n",
       "      <td>302.994293</td>\n",
       "    </tr>\n",
       "    <tr>\n",
       "      <th>4</th>\n",
       "      <td>295.940735</td>\n",
       "    </tr>\n",
       "  </tbody>\n",
       "</table>\n",
       "</div>"
      ],
      "text/plain": [
       "        Close\n",
       "0  308.832428\n",
       "1  312.204773\n",
       "2  310.829926\n",
       "3  302.994293\n",
       "4  295.940735"
      ]
     },
     "execution_count": 15,
     "metadata": {},
     "output_type": "execute_result"
    }
   ],
   "source": [
    " data_training.head()"
   ]
  },
  {
   "cell_type": "code",
   "execution_count": 16,
   "id": "6b14d692",
   "metadata": {},
   "outputs": [
    {
     "data": {
      "text/html": [
       "<div>\n",
       "<style scoped>\n",
       "    .dataframe tbody tr th:only-of-type {\n",
       "        vertical-align: middle;\n",
       "    }\n",
       "\n",
       "    .dataframe tbody tr th {\n",
       "        vertical-align: top;\n",
       "    }\n",
       "\n",
       "    .dataframe thead th {\n",
       "        text-align: right;\n",
       "    }\n",
       "</style>\n",
       "<table border=\"1\" class=\"dataframe\">\n",
       "  <thead>\n",
       "    <tr style=\"text-align: right;\">\n",
       "      <th></th>\n",
       "      <th>Close</th>\n",
       "    </tr>\n",
       "  </thead>\n",
       "  <tbody>\n",
       "    <tr>\n",
       "      <th>2172</th>\n",
       "      <td>1200.959961</td>\n",
       "    </tr>\n",
       "    <tr>\n",
       "      <th>2173</th>\n",
       "      <td>1207.770020</td>\n",
       "    </tr>\n",
       "    <tr>\n",
       "      <th>2174</th>\n",
       "      <td>1201.619995</td>\n",
       "    </tr>\n",
       "    <tr>\n",
       "      <th>2175</th>\n",
       "      <td>1207.329956</td>\n",
       "    </tr>\n",
       "    <tr>\n",
       "      <th>2176</th>\n",
       "      <td>1205.380005</td>\n",
       "    </tr>\n",
       "  </tbody>\n",
       "</table>\n",
       "</div>"
      ],
      "text/plain": [
       "            Close\n",
       "2172  1200.959961\n",
       "2173  1207.770020\n",
       "2174  1201.619995\n",
       "2175  1207.329956\n",
       "2176  1205.380005"
      ]
     },
     "execution_count": 16,
     "metadata": {},
     "output_type": "execute_result"
    }
   ],
   "source": [
    "data_testing.head()"
   ]
  },
  {
   "cell_type": "code",
   "execution_count": 17,
   "id": "2b20cf21",
   "metadata": {},
   "outputs": [],
   "source": [
    "from sklearn.preprocessing import MinMaxScaler\n",
    "scaler = MinMaxScaler(feature_range=(0,1))"
   ]
  },
  {
   "cell_type": "code",
   "execution_count": 18,
   "id": "eb3117c3",
   "metadata": {},
   "outputs": [
    {
     "data": {
      "text/plain": [
       "array([[0.08715709],\n",
       "       [0.09036546],\n",
       "       [0.08905746],\n",
       "       ...,\n",
       "       [0.97504543],\n",
       "       [0.94867331],\n",
       "       [0.94116694]])"
      ]
     },
     "execution_count": 18,
     "metadata": {},
     "output_type": "execute_result"
    }
   ],
   "source": [
    "data_training_array = scaler.fit_transform(data_training)\n",
    "data_training_array"
   ]
  },
  {
   "cell_type": "code",
   "execution_count": 19,
   "id": "f6803a6b",
   "metadata": {},
   "outputs": [],
   "source": [
    "x_train = []\n",
    "y_train = []\n",
    "\n",
    "for i in range(100, data_training_array.shape[0]):\n",
    "    x_train.append(data_training_array[i-100: i])\n",
    "    y_train.append(data_training_array[i, 0])\n",
    "    \n",
    "x_train, y_train = np.array(x_train), np.array(y_train)"
   ]
  },
  {
   "cell_type": "code",
   "execution_count": 20,
   "id": "d776e5b3",
   "metadata": {},
   "outputs": [],
   "source": [
    "# ML Model\n",
    "\n",
    "from keras.layers import Dense, Dropout, LSTM\n",
    "from keras.models import Sequential"
   ]
  },
  {
   "cell_type": "code",
   "execution_count": 21,
   "id": "3a47540a",
   "metadata": {},
   "outputs": [],
   "source": [
    "model = Sequential()\n",
    "model.add(LSTM(units = 50, activation = 'relu', return_sequences = True, input_shape = (x_train.shape[1], 1)))\n",
    "model.add(Dropout(0.2))\n",
    "\n",
    "model.add(LSTM(units = 60, activation = 'relu', return_sequences = True))\n",
    "model.add(Dropout(0.3))\n",
    "\n",
    "model.add(LSTM(units = 80, activation = 'relu', return_sequences = True))\n",
    "model.add(Dropout(0.4))\n",
    "\n",
    "model.add(LSTM(units = 120, activation = 'relu'))\n",
    "model.add(Dropout(0.5))\n",
    "\n",
    "model.add(Dense(units= 1))"
   ]
  },
  {
   "cell_type": "code",
   "execution_count": 22,
   "id": "b2d6e24a",
   "metadata": {},
   "outputs": [
    {
     "name": "stdout",
     "output_type": "stream",
     "text": [
      "Epoch 1/50\n",
      "65/65 [==============================] - 16s 183ms/step - loss: 0.0310\n",
      "Epoch 2/50\n",
      "65/65 [==============================] - 12s 181ms/step - loss: 0.0060\n",
      "Epoch 3/50\n",
      "65/65 [==============================] - 12s 192ms/step - loss: 0.0063\n",
      "Epoch 4/50\n",
      "65/65 [==============================] - 13s 194ms/step - loss: 0.0054\n",
      "Epoch 5/50\n",
      "65/65 [==============================] - 12s 185ms/step - loss: 0.0046\n",
      "Epoch 6/50\n",
      "65/65 [==============================] - 12s 182ms/step - loss: 0.0047\n",
      "Epoch 7/50\n",
      "65/65 [==============================] - 12s 181ms/step - loss: 0.0042\n",
      "Epoch 8/50\n",
      "65/65 [==============================] - 12s 184ms/step - loss: 0.0045\n",
      "Epoch 9/50\n",
      "65/65 [==============================] - 12s 181ms/step - loss: 0.0043\n",
      "Epoch 10/50\n",
      "65/65 [==============================] - 12s 189ms/step - loss: 0.0042\n",
      "Epoch 11/50\n",
      "65/65 [==============================] - 12s 184ms/step - loss: 0.0036\n",
      "Epoch 12/50\n",
      "65/65 [==============================] - 12s 184ms/step - loss: 0.0035\n",
      "Epoch 13/50\n",
      "65/65 [==============================] - 12s 184ms/step - loss: 0.0032\n",
      "Epoch 14/50\n",
      "65/65 [==============================] - 12s 184ms/step - loss: 0.0034\n",
      "Epoch 15/50\n",
      "65/65 [==============================] - 12s 186ms/step - loss: 0.0035\n",
      "Epoch 16/50\n",
      "65/65 [==============================] - 12s 184ms/step - loss: 0.0032\n",
      "Epoch 17/50\n",
      "65/65 [==============================] - 12s 185ms/step - loss: 0.0029\n",
      "Epoch 18/50\n",
      "65/65 [==============================] - 12s 185ms/step - loss: 0.0031\n",
      "Epoch 19/50\n",
      "65/65 [==============================] - 12s 186ms/step - loss: 0.0030\n",
      "Epoch 20/50\n",
      "65/65 [==============================] - 12s 187ms/step - loss: 0.0030\n",
      "Epoch 21/50\n",
      "65/65 [==============================] - 12s 185ms/step - loss: 0.0029\n",
      "Epoch 22/50\n",
      "65/65 [==============================] - 12s 184ms/step - loss: 0.0031\n",
      "Epoch 23/50\n",
      "65/65 [==============================] - 12s 185ms/step - loss: 0.0027\n",
      "Epoch 24/50\n",
      "65/65 [==============================] - 12s 183ms/step - loss: 0.0028\n",
      "Epoch 25/50\n",
      "65/65 [==============================] - 12s 185ms/step - loss: 0.0026\n",
      "Epoch 26/50\n",
      "65/65 [==============================] - 12s 183ms/step - loss: 0.0024\n",
      "Epoch 27/50\n",
      "65/65 [==============================] - 12s 184ms/step - loss: 0.0028\n",
      "Epoch 28/50\n",
      "65/65 [==============================] - 12s 184ms/step - loss: 0.0027\n",
      "Epoch 29/50\n",
      "65/65 [==============================] - 12s 185ms/step - loss: 0.0022\n",
      "Epoch 30/50\n",
      "65/65 [==============================] - 12s 184ms/step - loss: 0.0024\n",
      "Epoch 31/50\n",
      "65/65 [==============================] - 12s 185ms/step - loss: 0.0023\n",
      "Epoch 32/50\n",
      "65/65 [==============================] - 12s 184ms/step - loss: 0.0026\n",
      "Epoch 33/50\n",
      "65/65 [==============================] - 12s 185ms/step - loss: 0.0023\n",
      "Epoch 34/50\n",
      "65/65 [==============================] - 12s 184ms/step - loss: 0.0022\n",
      "Epoch 35/50\n",
      "65/65 [==============================] - 12s 185ms/step - loss: 0.0022\n",
      "Epoch 36/50\n",
      "65/65 [==============================] - 12s 184ms/step - loss: 0.0022\n",
      "Epoch 37/50\n",
      "65/65 [==============================] - 12s 185ms/step - loss: 0.0025\n",
      "Epoch 38/50\n",
      "65/65 [==============================] - 12s 184ms/step - loss: 0.0022\n",
      "Epoch 39/50\n",
      "65/65 [==============================] - 12s 185ms/step - loss: 0.0023\n",
      "Epoch 40/50\n",
      "65/65 [==============================] - 12s 186ms/step - loss: 0.0024\n",
      "Epoch 41/50\n",
      "65/65 [==============================] - 12s 186ms/step - loss: 0.0021\n",
      "Epoch 42/50\n",
      "65/65 [==============================] - 12s 184ms/step - loss: 0.0023\n",
      "Epoch 43/50\n",
      "65/65 [==============================] - 12s 186ms/step - loss: 0.0023\n",
      "Epoch 44/50\n",
      "65/65 [==============================] - 12s 184ms/step - loss: 0.0024\n",
      "Epoch 45/50\n",
      "65/65 [==============================] - 12s 186ms/step - loss: 0.0022\n",
      "Epoch 46/50\n",
      "65/65 [==============================] - 12s 185ms/step - loss: 0.0024\n",
      "Epoch 47/50\n",
      "65/65 [==============================] - 12s 186ms/step - loss: 0.0021\n",
      "Epoch 48/50\n",
      "65/65 [==============================] - 12s 185ms/step - loss: 0.0022\n",
      "Epoch 49/50\n",
      "65/65 [==============================] - 12s 185ms/step - loss: 0.0023\n",
      "Epoch 50/50\n",
      "65/65 [==============================] - 12s 184ms/step - loss: 0.0021\n"
     ]
    },
    {
     "data": {
      "text/plain": [
       "<keras.callbacks.History at 0x26357cc24a0>"
      ]
     },
     "execution_count": 22,
     "metadata": {},
     "output_type": "execute_result"
    }
   ],
   "source": [
    "model.compile(optimizer= 'adam', loss = 'mean_squared_error')\n",
    "model.fit(x_train,  y_train, epochs = 50)"
   ]
  },
  {
   "cell_type": "code",
   "execution_count": 23,
   "id": "30eb80a8",
   "metadata": {},
   "outputs": [],
   "source": [
    "model.save('keras_model.h5')"
   ]
  },
  {
   "cell_type": "code",
   "execution_count": 24,
   "id": "9ff020cc",
   "metadata": {},
   "outputs": [
    {
     "data": {
      "text/html": [
       "<div>\n",
       "<style scoped>\n",
       "    .dataframe tbody tr th:only-of-type {\n",
       "        vertical-align: middle;\n",
       "    }\n",
       "\n",
       "    .dataframe tbody tr th {\n",
       "        vertical-align: top;\n",
       "    }\n",
       "\n",
       "    .dataframe thead th {\n",
       "        text-align: right;\n",
       "    }\n",
       "</style>\n",
       "<table border=\"1\" class=\"dataframe\">\n",
       "  <thead>\n",
       "    <tr style=\"text-align: right;\">\n",
       "      <th></th>\n",
       "      <th>Close</th>\n",
       "    </tr>\n",
       "  </thead>\n",
       "  <tbody>\n",
       "    <tr>\n",
       "      <th>2172</th>\n",
       "      <td>1200.959961</td>\n",
       "    </tr>\n",
       "    <tr>\n",
       "      <th>2173</th>\n",
       "      <td>1207.770020</td>\n",
       "    </tr>\n",
       "    <tr>\n",
       "      <th>2174</th>\n",
       "      <td>1201.619995</td>\n",
       "    </tr>\n",
       "    <tr>\n",
       "      <th>2175</th>\n",
       "      <td>1207.329956</td>\n",
       "    </tr>\n",
       "    <tr>\n",
       "      <th>2176</th>\n",
       "      <td>1205.380005</td>\n",
       "    </tr>\n",
       "  </tbody>\n",
       "</table>\n",
       "</div>"
      ],
      "text/plain": [
       "            Close\n",
       "2172  1200.959961\n",
       "2173  1207.770020\n",
       "2174  1201.619995\n",
       "2175  1207.329956\n",
       "2176  1205.380005"
      ]
     },
     "execution_count": 24,
     "metadata": {},
     "output_type": "execute_result"
    }
   ],
   "source": [
    "data_testing.head()"
   ]
  },
  {
   "cell_type": "code",
   "execution_count": 25,
   "id": "5501fb4b",
   "metadata": {},
   "outputs": [],
   "source": [
    "past_100_days = data_training.tail(100)"
   ]
  },
  {
   "cell_type": "code",
   "execution_count": 26,
   "id": "f856e3d3",
   "metadata": {},
   "outputs": [
    {
     "name": "stderr",
     "output_type": "stream",
     "text": [
      "C:\\Users\\Home PC\\AppData\\Local\\Temp\\ipykernel_2160\\1385604238.py:1: FutureWarning: The frame.append method is deprecated and will be removed from pandas in a future version. Use pandas.concat instead.\n",
      "  final_df = past_100_days.append(data_training, ignore_index= True)\n"
     ]
    }
   ],
   "source": [
    "final_df = past_100_days.append(data_training, ignore_index= True)"
   ]
  },
  {
   "cell_type": "code",
   "execution_count": 27,
   "id": "01e00b25",
   "metadata": {},
   "outputs": [
    {
     "data": {
      "text/html": [
       "<div>\n",
       "<style scoped>\n",
       "    .dataframe tbody tr th:only-of-type {\n",
       "        vertical-align: middle;\n",
       "    }\n",
       "\n",
       "    .dataframe tbody tr th {\n",
       "        vertical-align: top;\n",
       "    }\n",
       "\n",
       "    .dataframe thead th {\n",
       "        text-align: right;\n",
       "    }\n",
       "</style>\n",
       "<table border=\"1\" class=\"dataframe\">\n",
       "  <thead>\n",
       "    <tr style=\"text-align: right;\">\n",
       "      <th></th>\n",
       "      <th>Close</th>\n",
       "    </tr>\n",
       "  </thead>\n",
       "  <tbody>\n",
       "    <tr>\n",
       "      <th>0</th>\n",
       "      <td>1005.099976</td>\n",
       "    </tr>\n",
       "    <tr>\n",
       "      <th>1</th>\n",
       "      <td>1004.559998</td>\n",
       "    </tr>\n",
       "    <tr>\n",
       "      <th>2</th>\n",
       "      <td>1031.790039</td>\n",
       "    </tr>\n",
       "    <tr>\n",
       "      <th>3</th>\n",
       "      <td>1006.469971</td>\n",
       "    </tr>\n",
       "    <tr>\n",
       "      <th>4</th>\n",
       "      <td>1013.409973</td>\n",
       "    </tr>\n",
       "  </tbody>\n",
       "</table>\n",
       "</div>"
      ],
      "text/plain": [
       "         Close\n",
       "0  1005.099976\n",
       "1  1004.559998\n",
       "2  1031.790039\n",
       "3  1006.469971\n",
       "4  1013.409973"
      ]
     },
     "execution_count": 27,
     "metadata": {},
     "output_type": "execute_result"
    }
   ],
   "source": [
    "final_df.head()"
   ]
  },
  {
   "cell_type": "code",
   "execution_count": 28,
   "id": "369e73e6",
   "metadata": {},
   "outputs": [
    {
     "data": {
      "text/plain": [
       "array([[0.74956932],\n",
       "       [0.7490556 ],\n",
       "       [0.7749616 ],\n",
       "       ...,\n",
       "       [0.97504543],\n",
       "       [0.94867331],\n",
       "       [0.94116694]])"
      ]
     },
     "execution_count": 28,
     "metadata": {},
     "output_type": "execute_result"
    }
   ],
   "source": [
    "input_data = scaler.fit_transform(final_df)\n",
    "input_data"
   ]
  },
  {
   "cell_type": "code",
   "execution_count": 29,
   "id": "2f3409a7",
   "metadata": {},
   "outputs": [
    {
     "data": {
      "text/plain": [
       "(2272, 1)"
      ]
     },
     "execution_count": 29,
     "metadata": {},
     "output_type": "execute_result"
    }
   ],
   "source": [
    "input_data.shape"
   ]
  },
  {
   "cell_type": "code",
   "execution_count": 30,
   "id": "dfb3c94f",
   "metadata": {},
   "outputs": [],
   "source": [
    "x_test = []\n",
    "y_test = []\n",
    "\n",
    "for i in range(100, input_data.shape[0]):\n",
    "    x_test.append(input_data[i-100: i])\n",
    "    y_test.append(input_data[i, 0])"
   ]
  },
  {
   "cell_type": "code",
   "execution_count": 31,
   "id": "67ac63e4",
   "metadata": {},
   "outputs": [
    {
     "name": "stdout",
     "output_type": "stream",
     "text": [
      "(2172, 100, 1)\n",
      "(2172,)\n"
     ]
    }
   ],
   "source": [
    "x_test, y_test = np.array(x_test), np.array(y_test)\n",
    "print(x_test.shape)\n",
    "print(y_test.shape)"
   ]
  },
  {
   "cell_type": "code",
   "execution_count": 32,
   "id": "d523e25f",
   "metadata": {},
   "outputs": [],
   "source": [
    "# Making Predictions\n",
    "\n",
    "y_predicted = model.predict(x_test)"
   ]
  },
  {
   "cell_type": "code",
   "execution_count": 33,
   "id": "e483d845",
   "metadata": {},
   "outputs": [
    {
     "data": {
      "text/plain": [
       "(2172, 1)"
      ]
     },
     "execution_count": 33,
     "metadata": {},
     "output_type": "execute_result"
    }
   ],
   "source": [
    "y_predicted.shape"
   ]
  },
  {
   "cell_type": "code",
   "execution_count": 34,
   "id": "79e05b5f",
   "metadata": {},
   "outputs": [
    {
     "data": {
      "text/plain": [
       "array([[0.90009236],\n",
       "       [0.8943597 ],\n",
       "       [0.8805623 ],\n",
       "       ...,\n",
       "       [0.89710224],\n",
       "       [0.89855397],\n",
       "       [0.89963996]], dtype=float32)"
      ]
     },
     "execution_count": 34,
     "metadata": {},
     "output_type": "execute_result"
    }
   ],
   "source": [
    "y_predicted"
   ]
  },
  {
   "cell_type": "code",
   "execution_count": 35,
   "id": "ba24275b",
   "metadata": {},
   "outputs": [],
   "source": [
    "scaler = scaler.scale_"
   ]
  },
  {
   "cell_type": "code",
   "execution_count": 36,
   "id": "cb0df581",
   "metadata": {},
   "outputs": [],
   "source": [
    "scale_factor = 1/scaler[0]\n",
    "y_predicted = y_predicted * scale_factor\n",
    "y_test = y_test * scale_factor"
   ]
  },
  {
   "cell_type": "code",
   "execution_count": 37,
   "id": "dfb60644",
   "metadata": {},
   "outputs": [
    {
     "data": {
      "image/png": "[encoded data removed]",
      "text/plain": [
       "<Figure size 864x432 with 1 Axes>"
      ]
     },
     "metadata": {
      "needs_background": "light"
     },
     "output_type": "display_data"
    }
   ],
   "source": [
    "plt.figure(figsize=(12,6))\n",
    "plt.plot(y_test, 'b', label = 'Original Price')\n",
    "plt.plot(y_predicted, 'r', label = 'Predicted Price')\n",
    "plt.xlabel('Time')\n",
    "plt.ylabel('Price')\n",
    "plt.legend()\n",
    "plt.show()"
   ]
  },
  {
   "cell_type": "code",
   "execution_count": null,
   "id": "53ad3cb9",
   "metadata": {},
   "outputs": [],
   "source": []
  }
 ],
 "metadata": {
  "kernelspec": {
   "display_name": "Python 3 (ipykernel)",
   "language": "python",
   "name": "python3"
  },
  "language_info": {
   "codemirror_mode": {
    "name": "ipython",
    "version": 3
   },
   "file_extension": ".py",
   "mimetype": "text/x-python",
   "name": "python",
   "nbconvert_exporter": "python",
   "pygments_lexer": "ipython3",
   "version": "3.10.4"
  }
 },
 "nbformat": 4,
 "nbformat_minor": 5
}
